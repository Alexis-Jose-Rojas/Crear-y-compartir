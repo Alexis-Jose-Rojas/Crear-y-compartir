{
 "cells": [
  {
   "cell_type": "markdown",
   "id": "4a73942f-b08b-4a90-b7f5-ffd1df91f8c5",
   "metadata": {},
   "source": [
    "# Data Science Tools and Ecosystem"
   ]
  },
  {
   "cell_type": "markdown",
   "id": "f0bcf578-e1a1-4b25-ad0c-8a6c120a9b92",
   "metadata": {},
   "source": [
    "In this notebook, Data Science Tools and Ecosystem are summarized."
   ]
  },
  {
   "cell_type": "markdown",
   "id": "4f8c17e3-0957-4256-b8e3-2faf6eaa2732",
   "metadata": {},
   "source": [
    "**Objectives:**\n",
    "\n",
    "- List popular languages for Data Science\n",
    "- Introduce commonly used libraries in Data Science\n",
    "- Demonstrate basic arithmetic expressions in Python\n",
    "- Convert time units using Python\n",
    "- Explore popular tools for Data Science development environments"
   ]
  },
  {
   "cell_type": "markdown",
   "id": "81595a58-a7b6-499c-bb90-f0310f74c07e",
   "metadata": {},
   "source": [
    "Some of the popular languages that Data Scientists use are:\n",
    "1. Python\n",
    "2. SQL\n",
    "3. R\n",
    "4. Scala"
   ]
  },
  {
   "cell_type": "markdown",
   "id": "c903c36b-0244-4f57-b74f-1e929d54f009",
   "metadata": {},
   "source": [
    "Some of the commonly used libraries used by Data Scientists include:\n",
    "\n",
    "1. Pandas\n",
    "2. Numpy\n",
    "3. Matplotlib"
   ]
  },
  {
   "cell_type": "markdown",
   "id": "812ca4b8-a707-451e-bb2b-b1661db1555c",
   "metadata": {},
   "source": [
    "\n",
    "\n",
    "| Data Science Tools     |\r\n",
    "|------------------------|\r\n",
    "| Jupyter Notebook        |\r\n",
    "| RStudio                |\r\n",
    "| Apache Zeppelin         |\r\n"
   ]
  },
  {
   "cell_type": "markdown",
   "id": "51981cc5-5139-4b50-af42-ea2e9d6b1b17",
   "metadata": {},
   "source": [
    "### Below are a few examples of evaluating arithmetic expressions in Python"
   ]
  },
  {
   "cell_type": "code",
   "execution_count": 2,
   "id": "f7786f4f-26b8-42c3-a778-0ea99e2e0b05",
   "metadata": {},
   "outputs": [
    {
     "data": {
      "text/plain": [
       "17"
      ]
     },
     "execution_count": 2,
     "metadata": {},
     "output_type": "execute_result"
    }
   ],
   "source": [
    "(3*4)+5\n",
    "#This a simple arithmetic expression to mutiply then add integers"
   ]
  },
  {
   "cell_type": "code",
   "execution_count": 5,
   "id": "c6f3c684-bc7c-437a-bee5-c7022d2904b2",
   "metadata": {},
   "outputs": [
    {
     "name": "stdout",
     "output_type": "stream",
     "text": [
      "3.33\n"
     ]
    }
   ],
   "source": [
    "# This will convert 200 minutes to hours by diving by 60\n",
    "R = 200 / 60\n",
    "R = round(R, 2)\n",
    "print(R)"
   ]
  },
  {
   "cell_type": "markdown",
   "id": "bfda38ce-0e96-4c90-93ac-caa8a6842683",
   "metadata": {},
   "source": [
    "## Author\n",
    "Alexis"
   ]
  },
  {
   "cell_type": "code",
   "execution_count": null,
   "id": "6ba9962f-f4d3-4eb5-8800-90aa88662643",
   "metadata": {},
   "outputs": [],
   "source": []
  }
 ],
 "metadata": {
  "kernelspec": {
   "display_name": "Python 3 (ipykernel)",
   "language": "python",
   "name": "python3"
  },
  "language_info": {
   "codemirror_mode": {
    "name": "ipython",
    "version": 3
   },
   "file_extension": ".py",
   "mimetype": "text/x-python",
   "name": "python",
   "nbconvert_exporter": "python",
   "pygments_lexer": "ipython3",
   "version": "3.12.0"
  }
 },
 "nbformat": 4,
 "nbformat_minor": 5
}
